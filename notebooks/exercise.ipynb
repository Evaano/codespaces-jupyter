{
 "cells": [
  {
   "attachments": {},
   "cell_type": "markdown",
   "metadata": {},
   "source": [
    "# Create a List Data Structure and name it shopping_cart which contains multiple dictionary items with the following fields:\n",
    "## - item_name\n",
    "## - item_quantity\n",
    "## - item_unitPrice\n",
    "# Add 5 items to shopping cart\n",
    "# Create a function name calculate_total which accepts the shopping cart as the parameter.\n",
    "# Return the total from the function.\n",
    "# Create another function called calculate_tax, pass the value returned from calculate_total to get the tax amount, at a Tax Rate of 8%.\n",
    "# Create another function that sums the total from the two functions and returns the net total.\n",
    "# Create a function that prints the items in the shopping list, its quantity and unit price as well as the gross total -> total for each item.\n",
    "# Then print the total price of the items and tax amount.\n",
    "# The output may look like the following:\n",
    "------------------------------------------------------------------------------------------------------------------------------------------------------------------------------------------------------\n"
   ]
  },
  {
   "cell_type": "code",
   "execution_count": null,
   "metadata": {
    "vscode": {
     "languageId": "plaintext"
    }
   },
   "outputs": [],
   "source": [
    "def main():\n",
    "    shopping_cart = [\n",
    "        {\n",
    "            \"item_name\": \"Apple\",\n",
    "            \"item_unitPrice\": 5,\n",
    "            \"item_quantity\": 5,\n",
    "        },\n",
    "        {\n",
    "            \"item_name\": \"Mango\",\n",
    "            \"item_unitPrice\": 12,\n",
    "            \"item_quantity\": 6,\n",
    "        },\n",
    "        {\n",
    "            \"item_name\": \"Orange\",\n",
    "            \"item_unitPrice\": 3,\n",
    "            \"item_quantity\": 5,\n",
    "        },\n",
    "        {\n",
    "            \"item_name\": \"Strawberry\",\n",
    "            \"item_unitPrice\": 15,\n",
    "            \"item_quantity\": 7,\n",
    "        },\n",
    "        {\n",
    "            \"item_name\": \"Banana\",\n",
    "            \"item_unitPrice\": 2,\n",
    "            \"item_quantity\": 10,\n",
    "        }\n",
    "    ]\n",
    "\n",
    "    total = calculate_total(shopping_cart)\n",
    "    tax = calculate_tax(total)\n",
    "    final_total = net_total(total, tax)\n",
    "    print(f\"Total: {total}, Tax: {tax}, Net Total: {final_total}\")\n",
    "\n",
    "\n",
    "def calculate_total(cart):\n",
    "    total = sum([item['item_quantity'] * item['item_unitPrice'] for item in cart])\n",
    "    return total\n",
    "\n",
    "\n",
    "def calculate_tax(total):\n",
    "    TAX_RATE = 0.08\n",
    "    tax = total * TAX_RATE\n",
    "    return tax\n",
    "\n",
    "\n",
    "def net_total(total, tax):\n",
    "    net_total = total + tax\n",
    "    return net_total\n",
    "\n",
    "\n",
    "main()"
   ]
  }
 ],
 "metadata": {
  "kernelspec": {
   "display_name": "Python 3",
   "language": "python",
   "name": "python3"
  },
  "language_info": {
   "codemirror_mode": {
    "name": "ipython",
    "version": 3
   },
   "file_extension": ".py",
   "mimetype": "text/x-python",
   "name": "python",
   "nbconvert_exporter": "python",
   "pygments_lexer": "ipython3",
   "version": "3.10.4"
  },
  "orig_nbformat": 4
 },
 "nbformat": 4,
 "nbformat_minor": 2
}
