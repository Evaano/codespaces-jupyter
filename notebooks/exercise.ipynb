{
 "cells": [
  {
   "attachments": {},
   "cell_type": "markdown",
   "metadata": {},
   "source": [
    "# Create a List Data Structure and name it shopping_cart which contains multiple dictionary items with the following fields:\n",
    "## - item_name\n",
    "## - item_quantity\n",
    "## - item_unitPrice\n",
    "# Add 5 items to shopping cart\n",
    "# Create a function name calculate_total which accepts the shopping cart as the parameter.\n",
    "# Return the total from the function.\n",
    "# Create another function called calculate_tax, pass the value returned from calculate_total to get the tax amount, at a Tax Rate of 8%.\n",
    "# Create another function that sums the total from the two functions and returns the net total.\n",
    "# Create a function that prints the items in the shopping list, its quantity and unit price as well as the gross total -> total for each item.\n",
    "# Then print the total price of the items and tax amount.\n",
    "# The output may look like the following:\n",
    "------------------------------------------------------------------------------------------------------------------------------------------------------------------------------------------------------\n"
   ]
  }
 ],
 "metadata": {
  "kernelspec": {
   "display_name": "Python 3",
   "language": "python",
   "name": "python3"
  },
  "language_info": {
   "codemirror_mode": {
    "name": "ipython",
    "version": 3
   },
   "file_extension": ".py",
   "mimetype": "text/x-python",
   "name": "python",
   "nbconvert_exporter": "python",
   "pygments_lexer": "ipython3",
   "version": "3.10.4"
  },
  "orig_nbformat": 4
 },
 "nbformat": 4,
 "nbformat_minor": 2
}
