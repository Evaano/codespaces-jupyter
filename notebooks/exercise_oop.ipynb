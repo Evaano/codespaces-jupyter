{
 "cells": [
  {
   "attachments": {},
   "cell_type": "markdown",
   "metadata": {},
   "source": [
    "Write a Python class named Student with two attributes: student_id,\n",
    "student_name. Add a new attribute: student_class. Create a function to\n",
    "display all attributes and their values in the Student class."
   ]
  },
  {
   "cell_type": "code",
   "execution_count": 1,
   "metadata": {},
   "outputs": [
    {
     "name": "stdout",
     "output_type": "stream",
     "text": [
      "Student Name : Evaan Ibrahim Rasheed \n",
      "Student ID : 101\n",
      "Lot 10539\n"
     ]
    }
   ],
   "source": [
    "class Student:\n",
    "    def __init__(self, student_id, student_name):\n",
    "        self.student_name = student_name\n",
    "        self.student_id = student_id\n",
    "\n",
    "    def __str__(self):\n",
    "        return f\"Student Name : {self.student_name} \\nStudent ID : {self.student_id}\"\n",
    "\n",
    "new_student = Student(101, \"Evaan Ibrahim Rasheed\")\n",
    "print(new_student)\n",
    "\n",
    "new_student.address = \"Lot 10539\"\n",
    "print(new_student.address)"
   ]
  },
  {
   "attachments": {},
   "cell_type": "markdown",
   "metadata": {},
   "source": [
    "Write a Python class BankAccount with attributes like account_number,\n",
    "balance, date_of_opening and customer_name, and methods like\n",
    "deposit, withdraw, and check_balance."
   ]
  },
  {
   "cell_type": "code",
   "execution_count": 2,
   "metadata": {},
   "outputs": [
    {
     "name": "stdout",
     "output_type": "stream",
     "text": [
      "Customer Name : Evaan Ibrahim Rasheed \n",
      "Account Number : 1234123412341234 \n",
      "Date of Opening : 27th September 2023\n"
     ]
    }
   ],
   "source": [
    "class BankAccount:\n",
    "    def __init__(self, account_number, balance, date_of_opening, customer_name):\n",
    "        self.account_number = account_number\n",
    "        self.balance = balance\n",
    "        self.date_of_opening = date_of_opening\n",
    "        self.customer_name = customer_name\n",
    "\n",
    "    def withdraw(self, amount):\n",
    "        if amount <= self.balance:\n",
    "            self.balance -= amount\n",
    "            return f\"Withdrawal of {amount} successful. New balance is MVR {self.balance}.\"\n",
    "        else:\n",
    "            return \"Insufficient balance.\"\n",
    "\n",
    "    def deposit(self, amount):\n",
    "        self.balance += amount\n",
    "        return f\"Deposit of {amount} successful. New balance is {self.balance}.\"\n",
    "\n",
    "    def check_balance(self):\n",
    "        return f\"Balance is MVR {self.balance}\"\n",
    "    \n",
    "    def __str__(self):\n",
    "        return f\"Customer Name : {self.customer_name} \\nAccount Number : {self.account_number} \\nDate of Opening : {self.date_of_opening}\"\n",
    "\n",
    "    \n",
    "new_account = BankAccount(1234123412341234, 10000, \"27th September 2023\", \"Evaan Ibrahim Rasheed\")\n",
    "\n",
    "user_input = input(\"PRESS \\n1 for account info \\n2 to withdraw money \\n3 to deposit money \\n4 to check balance \\nOption: \")\n",
    "if user_input == \"1\":\n",
    "    print(str(new_account))\n",
    "elif user_input == \"2\":\n",
    "    withdraw_amount = int(input(\"How much do you want to withdraw? \"))\n",
    "    print(new_account.withdraw(withdraw_amount))\n",
    "elif user_input == \"3\":\n",
    "    deposit_amount = int(input(\"How much do you want to deposit? \"))\n",
    "    print(new_account.deposit(deposit_amount))\n",
    "elif user_input == \"4\":\n",
    "    print(new_account.check_balance())\n",
    "else:\n",
    "    print(\"Invalid option\")"
   ]
  },
  {
   "attachments": {},
   "cell_type": "markdown",
   "metadata": {},
   "source": [
    "Create an abstract base class, Shape, with a single abstract method, draw.\n",
    "Implement two child classes, Triangle and Rectangle, that override the\n",
    "draw method. The output of the draw method should draw the shape of\n",
    "the Class. "
   ]
  }
 ],
 "metadata": {
  "kernelspec": {
   "display_name": "Python 3",
   "language": "python",
   "name": "python3"
  },
  "language_info": {
   "codemirror_mode": {
    "name": "ipython",
    "version": 3
   },
   "file_extension": ".py",
   "mimetype": "text/x-python",
   "name": "python",
   "nbconvert_exporter": "python",
   "pygments_lexer": "ipython3",
   "version": "3.10.4"
  },
  "orig_nbformat": 4
 },
 "nbformat": 4,
 "nbformat_minor": 2
}
