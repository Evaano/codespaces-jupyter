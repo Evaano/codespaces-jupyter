{
 "cells": [
  {
   "attachments": {},
   "cell_type": "markdown",
   "metadata": {},
   "source": [
    "Function that takes in a number and checks if it's odd or even"
   ]
  },
  {
   "cell_type": "code",
   "execution_count": 7,
   "metadata": {},
   "outputs": [
    {
     "name": "stdout",
     "output_type": "stream",
     "text": [
      "Even\n"
     ]
    }
   ],
   "source": [
    "def main():\n",
    "    my_number = int(input('Enter a number: '))\n",
    "    print(odd_or_even(my_number))\n",
    "\n",
    "def odd_or_even(some_number):\n",
    "    if some_number % 2 == 0:\n",
    "        return 'Even'\n",
    "    else:\n",
    "        return 'Odd'\n",
    "\n",
    "main()"
   ]
  },
  {
   "attachments": {},
   "cell_type": "markdown",
   "metadata": {},
   "source": [
    "Function that takes in a string and checks if it's a palindrome or not"
   ]
  },
  {
   "cell_type": "code",
   "execution_count": 9,
   "metadata": {},
   "outputs": [
    {
     "name": "stdout",
     "output_type": "stream",
     "text": [
      "Is a palindrome\n"
     ]
    }
   ],
   "source": [
    "def main():\n",
    "    my_string = input('User Input: ').casefold()\n",
    "    print(isPalindrome(my_string))\n",
    "\n",
    "def isPalindrome(my_string):\n",
    "    reversed_string = ''.join(reversed(my_string))\n",
    "\n",
    "    if reversed_string == my_string:\n",
    "        return 'Is a palindrome'\n",
    "    else:\n",
    "        return 'Is not a palindrome'\n",
    "main()"
   ]
  }
 ],
 "metadata": {
  "kernelspec": {
   "display_name": "Python 3",
   "language": "python",
   "name": "python3"
  },
  "language_info": {
   "codemirror_mode": {
    "name": "ipython",
    "version": 3
   },
   "file_extension": ".py",
   "mimetype": "text/x-python",
   "name": "python",
   "nbconvert_exporter": "python",
   "pygments_lexer": "ipython3",
   "version": "3.10.4"
  },
  "orig_nbformat": 4
 },
 "nbformat": 4,
 "nbformat_minor": 2
}
